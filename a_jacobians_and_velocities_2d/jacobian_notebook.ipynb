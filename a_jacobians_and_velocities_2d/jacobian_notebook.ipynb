{
 "metadata": {
  "name": "",
  "signature": "sha256:44e776806efd3701bf68b7a477a438d9455c972dd8b2d23fe418c49435087b99"
 },
 "nbformat": 3,
 "nbformat_minor": 0,
 "worksheets": [
  {
   "cells": [
    {
     "cell_type": "markdown",
     "metadata": {},
     "source": [
      "#Neuromechanics\n",
      "### (c) Francisco Valero-Cuevas\n",
      "### Ported by Brian Cohn and Cassie Nguyen\n",
      "### September 2013, version 1.0, Python Version 1.0\n",
      "### Filename: J2D2DOF.py\n",
      "### Jacobian of 2D, 2DOF linkage system\n",
      "\n",
      "#### Import required packages"
     ]
    },
    {
     "cell_type": "code",
     "collapsed": false,
     "input": [
      "import sympy\n",
      "import numpy\n",
      "from sympy import pprint"
     ],
     "language": "python",
     "metadata": {},
     "outputs": [],
     "prompt_number": 4
    },
    {
     "cell_type": "markdown",
     "metadata": {},
     "source": [
      "# Define variables for symbolic analysis"
     ]
    },
    {
     "cell_type": "code",
     "collapsed": false,
     "input": [
      "G, J = sympy.symbols('G J')\t\t\t\t\t# Vector functions\n",
      "q1, q2, x, y = sympy.symbols('q1 q2 x y')\t# Degrees of freedom (two DOF), two dimensions for output space.\n",
      "l1, l2 = sympy.symbols('l1 l2')\t\t\t\t# System parameters (limb lengths)"
     ],
     "language": "python",
     "metadata": {},
     "outputs": [],
     "prompt_number": 5
    },
    {
     "cell_type": "markdown",
     "metadata": {},
     "source": [
      "#### Define x and y coordinates of the endpoint"
     ]
    },
    {
     "cell_type": "code",
     "collapsed": false,
     "input": [
      "x = l1*sympy.cos(q1) + l2*sympy.cos(q1+q2)\n",
      "y = l1*sympy.sin(q1) + l2*sympy.sin(q1+q2)"
     ],
     "language": "python",
     "metadata": {},
     "outputs": [],
     "prompt_number": 6
    },
    {
     "cell_type": "markdown",
     "metadata": {},
     "source": [
      "#### Create Matrix for Geometric Model"
     ]
    },
    {
     "cell_type": "code",
     "collapsed": false,
     "input": [
      "G = sympy.Matrix([x,y])"
     ],
     "language": "python",
     "metadata": {},
     "outputs": [],
     "prompt_number": 7
    },
    {
     "cell_type": "markdown",
     "metadata": {},
     "source": [
      "#### Create Jacobian and its permutations"
     ]
    },
    {
     "cell_type": "code",
     "collapsed": false,
     "input": [
      "J = G.jacobian([q1,q2])\n",
      "J_inv = J.inv()\n",
      "J_trans = J.transpose()\n",
      "J_trans_inv = J.transpose().inv()"
     ],
     "language": "python",
     "metadata": {},
     "outputs": [],
     "prompt_number": 8
    },
    {
     "cell_type": "code",
     "collapsed": false,
     "input": [
      "pprint(G)"
     ],
     "language": "python",
     "metadata": {},
     "outputs": [
      {
       "output_type": "stream",
       "stream": "stdout",
       "text": [
        "\u23a1l\u2081\u22c5cos(q\u2081) + l\u2082\u22c5cos(q\u2081 + q\u2082)\u23a4\n",
        "\u23a2                            \u23a5\n",
        "\u23a3l\u2081\u22c5sin(q\u2081) + l\u2082\u22c5sin(q\u2081 + q\u2082)\u23a6\n"
       ]
      }
     ],
     "prompt_number": 9
    },
    {
     "cell_type": "code",
     "collapsed": false,
     "input": [
      "pprint(J)"
     ],
     "language": "python",
     "metadata": {},
     "outputs": [
      {
       "output_type": "stream",
       "stream": "stdout",
       "text": [
        "\u23a1-l\u2081\u22c5sin(q\u2081) - l\u2082\u22c5sin(q\u2081 + q\u2082)  -l\u2082\u22c5sin(q\u2081 + q\u2082)\u23a4\n",
        "\u23a2                                               \u23a5\n",
        "\u23a3l\u2081\u22c5cos(q\u2081) + l\u2082\u22c5cos(q\u2081 + q\u2082)   l\u2082\u22c5cos(q\u2081 + q\u2082) \u23a6\n"
       ]
      }
     ],
     "prompt_number": 10
    },
    {
     "cell_type": "code",
     "collapsed": false,
     "input": [
      "pprint(J_inv)"
     ],
     "language": "python",
     "metadata": {},
     "outputs": [
      {
       "output_type": "stream",
       "stream": "stdout",
       "text": [
        "\u23a1              1                 (l\u2081\u22c5sin(q\u2081) + l\u2082\u22c5sin(q\u2081 + q\u2082))\u22c5(l\u2081\u22c5cos(q\u2081) + \n",
        "\u23a2\u2500\u2500\u2500\u2500\u2500\u2500\u2500\u2500\u2500\u2500\u2500\u2500\u2500\u2500\u2500\u2500\u2500\u2500\u2500\u2500\u2500\u2500\u2500\u2500\u2500\u2500\u2500\u2500\u2500 + \u2500\u2500\u2500\u2500\u2500\u2500\u2500\u2500\u2500\u2500\u2500\u2500\u2500\u2500\u2500\u2500\u2500\u2500\u2500\u2500\u2500\u2500\u2500\u2500\u2500\u2500\u2500\u2500\u2500\u2500\u2500\u2500\u2500\u2500\u2500\u2500\u2500\u2500\u2500\u2500\u2500\u2500\u2500\u2500\u2500\n",
        "\u23a2-l\u2081\u22c5sin(q\u2081) - l\u2082\u22c5sin(q\u2081 + q\u2082)                                                \n",
        "\u23a2                                               l\u2081\u22c5(-l\u2081\u22c5sin(q\u2081) - l\u2082\u22c5sin(q\u2081 + \n",
        "\u23a2                                                                             \n",
        "\u23a2                      (l\u2081\u22c5sin(q\u2081) + l\u2082\u22c5sin(q\u2081 + q\u2082))\u22c5(l\u2081\u22c5cos(q\u2081) + l\u2082\u22c5cos(q\u2081 \n",
        "\u23a2                      \u2500\u2500\u2500\u2500\u2500\u2500\u2500\u2500\u2500\u2500\u2500\u2500\u2500\u2500\u2500\u2500\u2500\u2500\u2500\u2500\u2500\u2500\u2500\u2500\u2500\u2500\u2500\u2500\u2500\u2500\u2500\u2500\u2500\u2500\u2500\u2500\u2500\u2500\u2500\u2500\u2500\u2500\u2500\u2500\u2500\u2500\u2500\u2500\u2500\u2500\u2500\u2500\u2500\u2500\u2500\n",
        "\u23a3                              l\u2081\u22c5l\u2082\u22c5(-l\u2081\u22c5sin(q\u2081) - l\u2082\u22c5sin(q\u2081 + q\u2082))\u22c5sin(q\u2082)  \n",
        "\n",
        "l\u2082\u22c5cos(q\u2081 + q\u2082))\u22c5sin(q\u2081 + q\u2082)  -(l\u2081\u22c5sin(q\u2081) + l\u2082\u22c5sin(q\u2081 + q\u2082))\u22c5sin(q\u2081 + q\u2082) \u23a4\n",
        "\u2500\u2500\u2500\u2500\u2500\u2500\u2500\u2500\u2500\u2500\u2500\u2500\u2500\u2500\u2500\u2500\u2500\u2500\u2500\u2500\u2500\u2500\u2500\u2500\u2500\u2500\u2500\u2500\u2500  \u2500\u2500\u2500\u2500\u2500\u2500\u2500\u2500\u2500\u2500\u2500\u2500\u2500\u2500\u2500\u2500\u2500\u2500\u2500\u2500\u2500\u2500\u2500\u2500\u2500\u2500\u2500\u2500\u2500\u2500\u2500\u2500\u2500\u2500\u2500\u2500\u2500\u2500\u2500\u2500\u2500\u2500\u2500\u2500\u2500\u23a5\n",
        "    2                            l\u2081\u22c5(-l\u2081\u22c5sin(q\u2081) - l\u2082\u22c5sin(q\u2081 + q\u2082))\u22c5sin(q\u2082) \u23a5\n",
        "q\u2082)) \u22c5sin(q\u2082)                                                               \u23a5\n",
        "                                                                            \u23a5\n",
        "+ q\u2082))                               -(l\u2081\u22c5sin(q\u2081) + l\u2082\u22c5sin(q\u2081 + q\u2082))        \u23a5\n",
        "\u2500\u2500\u2500\u2500\u2500\u2500                               \u2500\u2500\u2500\u2500\u2500\u2500\u2500\u2500\u2500\u2500\u2500\u2500\u2500\u2500\u2500\u2500\u2500\u2500\u2500\u2500\u2500\u2500\u2500\u2500\u2500\u2500\u2500\u2500\u2500\u2500\u2500\u2500       \u23a5\n",
        "                                              l\u2081\u22c5l\u2082\u22c5sin(q\u2082)                 \u23a6\n"
       ]
      }
     ],
     "prompt_number": 11
    },
    {
     "cell_type": "code",
     "collapsed": false,
     "input": [
      "pprint(J_trans)"
     ],
     "language": "python",
     "metadata": {},
     "outputs": [
      {
       "output_type": "stream",
       "stream": "stdout",
       "text": [
        "\u23a1-l\u2081\u22c5sin(q\u2081) - l\u2082\u22c5sin(q\u2081 + q\u2082)  l\u2081\u22c5cos(q\u2081) + l\u2082\u22c5cos(q\u2081 + q\u2082)\u23a4\n",
        "\u23a2                                                           \u23a5\n",
        "\u23a3      -l\u2082\u22c5sin(q\u2081 + q\u2082)               l\u2082\u22c5cos(q\u2081 + q\u2082)       \u23a6\n"
       ]
      }
     ],
     "prompt_number": 12
    },
    {
     "cell_type": "code",
     "collapsed": false,
     "input": [
      "pprint(J_trans_inv)\n",
      "print \"==================\" #Finish matrix visualization"
     ],
     "language": "python",
     "metadata": {},
     "outputs": [
      {
       "output_type": "stream",
       "stream": "stdout",
       "text": [
        "\u23a1              1                 (l\u2081\u22c5sin(q\u2081) + l\u2082\u22c5sin(q\u2081 + q\u2082))\u22c5(l\u2081\u22c5cos(q\u2081) + \n",
        "\u23a2\u2500\u2500\u2500\u2500\u2500\u2500\u2500\u2500\u2500\u2500\u2500\u2500\u2500\u2500\u2500\u2500\u2500\u2500\u2500\u2500\u2500\u2500\u2500\u2500\u2500\u2500\u2500\u2500\u2500 + \u2500\u2500\u2500\u2500\u2500\u2500\u2500\u2500\u2500\u2500\u2500\u2500\u2500\u2500\u2500\u2500\u2500\u2500\u2500\u2500\u2500\u2500\u2500\u2500\u2500\u2500\u2500\u2500\u2500\u2500\u2500\u2500\u2500\u2500\u2500\u2500\u2500\u2500\u2500\u2500\u2500\u2500\u2500\u2500\u2500\n",
        "\u23a2-l\u2081\u22c5sin(q\u2081) - l\u2082\u22c5sin(q\u2081 + q\u2082)                                                \n",
        "\u23a2                                               l\u2081\u22c5(-l\u2081\u22c5sin(q\u2081) - l\u2082\u22c5sin(q\u2081 + \n",
        "\u23a2                                                                             \n",
        "\u23a2                              -(l\u2081\u22c5sin(q\u2081) + l\u2082\u22c5sin(q\u2081 + q\u2082))\u22c5sin(q\u2081 + q\u2082)   \n",
        "\u23a2                              \u2500\u2500\u2500\u2500\u2500\u2500\u2500\u2500\u2500\u2500\u2500\u2500\u2500\u2500\u2500\u2500\u2500\u2500\u2500\u2500\u2500\u2500\u2500\u2500\u2500\u2500\u2500\u2500\u2500\u2500\u2500\u2500\u2500\u2500\u2500\u2500\u2500\u2500\u2500\u2500\u2500\u2500\u2500\u2500\u2500  \n",
        "\u23a3                                l\u2081\u22c5(-l\u2081\u22c5sin(q\u2081) - l\u2082\u22c5sin(q\u2081 + q\u2082))\u22c5sin(q\u2082)   \n",
        "\n",
        "l\u2082\u22c5cos(q\u2081 + q\u2082))\u22c5sin(q\u2081 + q\u2082)  (l\u2081\u22c5sin(q\u2081) + l\u2082\u22c5sin(q\u2081 + q\u2082))\u22c5(l\u2081\u22c5cos(q\u2081) + l\u2082\n",
        "\u2500\u2500\u2500\u2500\u2500\u2500\u2500\u2500\u2500\u2500\u2500\u2500\u2500\u2500\u2500\u2500\u2500\u2500\u2500\u2500\u2500\u2500\u2500\u2500\u2500\u2500\u2500\u2500\u2500  \u2500\u2500\u2500\u2500\u2500\u2500\u2500\u2500\u2500\u2500\u2500\u2500\u2500\u2500\u2500\u2500\u2500\u2500\u2500\u2500\u2500\u2500\u2500\u2500\u2500\u2500\u2500\u2500\u2500\u2500\u2500\u2500\u2500\u2500\u2500\u2500\u2500\u2500\u2500\u2500\u2500\u2500\u2500\u2500\u2500\u2500\u2500\n",
        "    2                                  l\u2081\u22c5l\u2082\u22c5(-l\u2081\u22c5sin(q\u2081) - l\u2082\u22c5sin(q\u2081 + q\u2082))\u22c5s\n",
        "q\u2082)) \u22c5sin(q\u2082)                                                                 \n",
        "                                                                              \n",
        "                                             -(l\u2081\u22c5sin(q\u2081) + l\u2082\u22c5sin(q\u2081 + q\u2082))  \n",
        "                                             \u2500\u2500\u2500\u2500\u2500\u2500\u2500\u2500\u2500\u2500\u2500\u2500\u2500\u2500\u2500\u2500\u2500\u2500\u2500\u2500\u2500\u2500\u2500\u2500\u2500\u2500\u2500\u2500\u2500\u2500\u2500\u2500 \n",
        "                                                      l\u2081\u22c5l\u2082\u22c5sin(q\u2082)           \n",
        "\n",
        "\u22c5cos(q\u2081 + q\u2082))\u23a4\n",
        "\u2500\u2500\u2500\u2500\u2500\u2500\u2500\u2500\u2500\u2500\u2500\u2500\u2500\u2500\u23a5\n",
        "in(q\u2082)        \u23a5\n",
        "              \u23a5\n",
        "              \u23a5\n",
        "              \u23a5\n",
        "              \u23a5\n",
        "              \u23a6\n",
        "==================\n"
       ]
      }
     ],
     "prompt_number": 13
    },
    {
     "cell_type": "code",
     "collapsed": false,
     "input": [],
     "language": "python",
     "metadata": {},
     "outputs": [],
     "prompt_number": 13
    },
    {
     "cell_type": "code",
     "collapsed": false,
     "input": [
      "# Define substitutions for Numerical Example\n",
      "subs = {l1:1, #limb lengths\n",
      "        l2:1,\n",
      "        q1:0, #joint angles\n",
      "        q2:numpy.pi/2.0}\n",
      "\n",
      "print(\"Evaluate the functions for these parameter values \\n\")\n",
      "\n",
      "# % Numerical examples\n",
      "print('Numerical examples')\n",
      "\n",
      "print('G \\n')\n",
      "valG = G.evalf(subs=subs)\n",
      "pprint(valG)\n",
      "\n",
      "print('J \\n')\n",
      "numerical_J = J.evalf(subs=subs)\n",
      "pprint(numerical_J)\n",
      "\n",
      "print('J_trans \\n')\n",
      "numerical_J_trans = J_trans.evalf(subs=subs)\n",
      "pprint(numerical_J_trans)\n",
      "\n",
      "print('J_inv \\n')\n",
      "numerical_J_inv = J_inv.evalf(subs=subs)\n",
      "pprint(numerical_J_inv)\n",
      "\n",
      "print('J_trans_inv \\n')\n",
      "numerical_J_trans_inv = J_trans_inv.evalf(subs=subs)\n",
      "pprint(numerical_J_trans_inv)\n",
      "\n",
      "# Numerical Examples\n",
      "print('Example of applying a positive angular velocity at q1 to find the resulting instantaneous endpoint velocity')\n",
      "q1_dot = 1\n",
      "q2_dot = 0\n",
      "q_dot = sympy.Matrix([q1_dot, q2_dot]).evalf(subs=subs)\n",
      "print('q_dot')\n",
      "pprint(q_dot)\n",
      "x_dot = numerical_J * sympy.Matrix([q1_dot, q2_dot]).evalf(subs=subs)\n",
      "x_dot = x_dot.n()\n",
      "print('x_dot')\n",
      "pprint(x_dot)\n",
      "\n",
      "print('Example of applying that same endpoint velocity to find the resulting instantaneous angular velocities')\n",
      "q_dot = numerical_J_inv * x_dot\n",
      "q_dot = q_dot.evalf(subs=subs).n()\n",
      "pprint(q_dot)\n",
      "\n",
      "print('Example of finding which torques produce a horizontal endpoint force vector in equilibrium')\n",
      "tau = numerical_J_inv.transpose() * sympy.Matrix([1, 0])\n",
      "pprint(tau.n())\n",
      "\n",
      "print('Example of applying those joint torques to find the resulting endpoint force vector in equilibrium')\n",
      "# f = subs(J_trans_inv*tau)\n",
      "f = numerical_J_trans_inv * tau\n",
      "pprint(f.evalf())\n",
      "\n"
     ],
     "language": "python",
     "metadata": {},
     "outputs": [
      {
       "output_type": "stream",
       "stream": "stdout",
       "text": [
        "Evaluate the functions for these parameter values \n",
        "\n",
        "Numerical examples\n",
        "G \n",
        "\n",
        "\u23a11.0\u23a4\n",
        "\u23a2   \u23a5\n",
        "\u23a31.0\u23a6\n",
        "J \n",
        "\n",
        "\u23a1-1.0          -1.0        \u23a4\n",
        "\u23a2                          \u23a5\n",
        "\u23a31.0   6.12323399573677e-17\u23a6\n",
        "J_trans \n",
        "\n",
        "\u23a1-1.0          1.0         \u23a4\n",
        "\u23a2                          \u23a5\n",
        "\u23a3-1.0  6.12323399573677e-17\u23a6\n",
        "J_inv \n",
        "\n",
        "\u23a16.12323399573677e-17  1.0 \u23a4\n",
        "\u23a2                          \u23a5\n",
        "\u23a3        -1.0          -1.0\u23a6"
       ]
      },
      {
       "output_type": "stream",
       "stream": "stdout",
       "text": [
        "\n",
        "J_trans_inv \n",
        "\n",
        "\u23a16.12323399573677e-17  -1.0\u23a4\n",
        "\u23a2                          \u23a5\n",
        "\u23a3        1.0           -1.0\u23a6\n",
        "Example of applying a positive angular velocity at q1 to find the resulting instantaneous endpoint velocity\n",
        "q_dot\n",
        "\u23a11.0\u23a4\n",
        "\u23a2   \u23a5\n",
        "\u23a3 0 \u23a6\n",
        "x_dot\n",
        "\u23a1-1.0\u23a4\n",
        "\u23a2    \u23a5\n",
        "\u23a31.0 \u23a6\n",
        "Example of applying that same endpoint velocity to find the resulting instantaneous angular velocities\n",
        "\u23a11.0\u23a4\n",
        "\u23a2   \u23a5\n",
        "\u23a3 0 \u23a6\n",
        "Example of finding which torques produce a horizontal endpoint force vector in equilibrium\n",
        "\u23a16.12323399573677e-17\u23a4\n",
        "\u23a2                    \u23a5\n",
        "\u23a3        1.0         \u23a6\n",
        "Example of applying those joint torques to find the resulting endpoint force vector in equilibrium\n",
        "\u23a1-1.0\u23a4\n",
        "\u23a2    \u23a5\n",
        "\u23a3-1.0\u23a6\n"
       ]
      }
     ],
     "prompt_number": 14
    },
    {
     "cell_type": "code",
     "collapsed": false,
     "input": [],
     "language": "python",
     "metadata": {},
     "outputs": [],
     "prompt_number": 14
    }
   ],
   "metadata": {}
  }
 ]
}